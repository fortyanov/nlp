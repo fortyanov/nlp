{
 "cells": [
  {
   "cell_type": "markdown",
   "metadata": {
    "id": "Lv1nORvnYVQn"
   },
   "source": "## Полносвязная нейросеть для определения тональности текста отзывов на фильмы из IMDb с использованием предобработки входных данных алгоритмом \"мешок слов\""
  },
  {
   "cell_type": "markdown",
   "metadata": {
    "id": "sU_nuqLaTHYg"
   },
   "source": [
    "## Набор данных IMDb movie review\n",
    "\n",
    "[Набор данных IMDb movie review](https://ai.stanford.edu/~amaas/data/sentiment/) создан для задач определения тональности текста. Набор включает отзывы на фильмы с сайта [IMDb](https://www.imdb.com). Отзывы только явно положительные (оценка >= 7) или отрицательные (оценка <= 4), нейтральные отзывы в набор данных не включались.\n",
    "\n",
    "Размер набора данных 50 тыс. отзывов:\n",
    "- Набор данных для обучения - 25 тыс. отзывов\n",
    "- Набор данных для тестирования - 25 тыс. отзывов\n",
    "\n",
    "Количество положительных и отрицательных отзывов одинаковое.\n",
    "\n",
    "Разметка набора данных:\n",
    "- 0 - отзыв отрицательный\n",
    "- 1 - отзыв положительный\n",
    "\n",
    "С точки зрения машинного обучения это задача бинарной классификации.\n",
    "\n",
    "Набор данных описан в статье: [Andrew L. Maas, Raymond E. Daly, Peter T. Pham, Dan Huang, Andrew Y. Ng, and Christopher Potts. (2011). Learning Word Vectors for Sentiment Analysis. The 49th Annual Meeting of the Association for Computational Linguistics (ACL 2011)](https://ai.stanford.edu/~amaas/papers/wvSent_acl2011.pdf)."
   ]
  },
  {
   "cell_type": "code",
   "metadata": {
    "id": "lpsyhVlJX5XH",
    "ExecuteTime": {
     "end_time": "2024-09-01T18:20:33.976174Z",
     "start_time": "2024-09-01T18:20:30.546681Z"
    }
   },
   "source": [
    "from tensorflow.keras.datasets import imdb\n",
    "from tensorflow.keras.models import Sequential\n",
    "from tensorflow.keras.layers import Dense\n",
    "from tensorflow.keras import utils\n",
    "from tensorflow.keras.preprocessing.sequence import pad_sequences\n",
    "import numpy as np\n",
    "import tensorflow as tf\n",
    "from itertools import islice\n",
    "import matplotlib.pyplot as plt\n",
    "%matplotlib inline"
   ],
   "outputs": [],
   "execution_count": 1
  },
  {
   "metadata": {},
   "cell_type": "markdown",
   "source": "Определяем максимально возможное количество слов, те слова которые встречаются реже чем слово с указанным индексом в словаре игнорируются"
  },
  {
   "metadata": {
    "id": "kBUUyZ4cbxoM",
    "ExecuteTime": {
     "end_time": "2024-09-01T18:20:36.029007Z",
     "start_time": "2024-09-01T18:20:36.025568Z"
    }
   },
   "cell_type": "code",
   "source": "max_words=10000",
   "outputs": [],
   "execution_count": 3
  },
  {
   "metadata": {
    "id": "xGDJkdINNWVh"
   },
   "cell_type": "markdown",
   "source": "## Загружаем данные"
  },
  {
   "metadata": {
    "id": "toRj2Xs1NZgB",
    "ExecuteTime": {
     "end_time": "2024-09-01T18:20:41.327094Z",
     "start_time": "2024-09-01T18:20:37.946912Z"
    }
   },
   "cell_type": "code",
   "source": "(x_train, y_train), (x_test, y_test) = imdb.load_data(num_words=max_words)",
   "outputs": [],
   "execution_count": 4
  },
  {
   "metadata": {
    "id": "cLwFe4_aaXWP"
   },
   "cell_type": "markdown",
   "source": "## Просмотр данных"
  },
  {
   "metadata": {
    "id": "0bE25agXLwCp"
   },
   "cell_type": "markdown",
   "source": "Рецензия"
  },
  {
   "metadata": {
    "colab": {
     "base_uri": "https://localhost:8080/",
     "height": 1000
    },
    "id": "_XeruR8UaZRm",
    "outputId": "ade5a2d4-d0f7-4db5-8c1d-46a21b270d88",
    "scrolled": true,
    "ExecuteTime": {
     "end_time": "2024-09-01T18:20:44.069401Z",
     "start_time": "2024-09-01T18:20:44.064399Z"
    }
   },
   "cell_type": "code",
   "source": "x_train[5]",
   "outputs": [
    {
     "data": {
      "text/plain": [
       "[1,\n",
       " 778,\n",
       " 128,\n",
       " 74,\n",
       " 12,\n",
       " 630,\n",
       " 163,\n",
       " 15,\n",
       " 4,\n",
       " 1766,\n",
       " 7982,\n",
       " 1051,\n",
       " 2,\n",
       " 32,\n",
       " 85,\n",
       " 156,\n",
       " 45,\n",
       " 40,\n",
       " 148,\n",
       " 139,\n",
       " 121,\n",
       " 664,\n",
       " 665,\n",
       " 10,\n",
       " 10,\n",
       " 1361,\n",
       " 173,\n",
       " 4,\n",
       " 749,\n",
       " 2,\n",
       " 16,\n",
       " 3804,\n",
       " 8,\n",
       " 4,\n",
       " 226,\n",
       " 65,\n",
       " 12,\n",
       " 43,\n",
       " 127,\n",
       " 24,\n",
       " 2,\n",
       " 10,\n",
       " 10]"
      ]
     },
     "execution_count": 5,
     "metadata": {},
     "output_type": "execute_result"
    }
   ],
   "execution_count": 5
  },
  {
   "metadata": {
    "id": "Xdj6uFFaLzOx"
   },
   "cell_type": "markdown",
   "source": "Ожидаемый эмоциональный окрас"
  },
  {
   "cell_type": "code",
   "metadata": {
    "colab": {
     "base_uri": "https://localhost:8080/",
     "height": 34
    },
    "id": "1tUhNPuRL1Kc",
    "outputId": "75c23ce5-e28a-4cdd-bc55-6a5f86fb32a0",
    "ExecuteTime": {
     "end_time": "2024-09-01T18:20:46.296416Z",
     "start_time": "2024-09-01T18:20:46.292737Z"
    }
   },
   "source": [
    "y_train[5]"
   ],
   "outputs": [
    {
     "data": {
      "text/plain": [
       "0"
      ]
     },
     "execution_count": 6,
     "metadata": {},
     "output_type": "execute_result"
    }
   ],
   "execution_count": 6
  },
  {
   "cell_type": "markdown",
   "metadata": {
    "id": "gouAhubOL986"
   },
   "source": [
    "## Раскодируем текст рецензии"
   ]
  },
  {
   "cell_type": "markdown",
   "metadata": {
    "id": "qqfrkzxpbMiv"
   },
   "source": [
    "В наборе данных IMDB используется частотное кодирование слов. Загрузим словарь, который использовался для кодирования."
   ]
  },
  {
   "cell_type": "code",
   "metadata": {
    "id": "yrFecqo1bTFH",
    "ExecuteTime": {
     "end_time": "2024-09-01T18:20:51.891681Z",
     "start_time": "2024-09-01T18:20:51.843559Z"
    }
   },
   "source": [
    "word_index = imdb.get_word_index()"
   ],
   "outputs": [],
   "execution_count": 7
  },
  {
   "cell_type": "code",
   "metadata": {
    "colab": {
     "base_uri": "https://localhost:8080/",
     "height": 1000
    },
    "id": "Qk9NMqABbXCo",
    "outputId": "84ec15cf-a777-4e86-e172-bdf291736284",
    "scrolled": true,
    "ExecuteTime": {
     "end_time": "2024-09-01T18:20:53.512941Z",
     "start_time": "2024-09-01T18:20:53.508539Z"
    }
   },
   "source": "list(islice(word_index.items(), 10))",
   "outputs": [
    {
     "data": {
      "text/plain": [
       "[('fawn', 34701),\n",
       " ('tsukino', 52006),\n",
       " ('nunnery', 52007),\n",
       " ('sonja', 16816),\n",
       " ('vani', 63951),\n",
       " ('woods', 1408),\n",
       " ('spiders', 16115),\n",
       " ('hanging', 2345),\n",
       " ('woody', 2289),\n",
       " ('trawling', 52008)]"
      ]
     },
     "execution_count": 8,
     "metadata": {},
     "output_type": "execute_result"
    }
   ],
   "execution_count": 8
  },
  {
   "cell_type": "markdown",
   "metadata": {
    "id": "zYeEcLwlOjVK"
   },
   "source": [
    "Преобразуем словарь, чтобы по номеру получать слово"
   ]
  },
  {
   "cell_type": "code",
   "metadata": {
    "id": "AwqwYoPXOXfR",
    "ExecuteTime": {
     "end_time": "2024-09-01T18:20:56.061275Z",
     "start_time": "2024-09-01T18:20:56.037574Z"
    }
   },
   "source": [
    "reverse_word_index = dict()\n",
    "for key, value in word_index.items():\n",
    "    reverse_word_index[value] = key"
   ],
   "outputs": [],
   "execution_count": 9
  },
  {
   "cell_type": "markdown",
   "metadata": {
    "id": "fOvfw95aNDX3"
   },
   "source": [
    "Печатаем 20 самых частых слов"
   ]
  },
  {
   "cell_type": "code",
   "metadata": {
    "colab": {
     "base_uri": "https://localhost:8080/",
     "height": 360
    },
    "id": "8raHnOxeO5z6",
    "outputId": "520526e9-7f9a-428a-f43b-2598639368ae",
    "ExecuteTime": {
     "end_time": "2024-09-01T18:20:58.842403Z",
     "start_time": "2024-09-01T18:20:58.837597Z"
    }
   },
   "source": [
    "for i in range(1, 21):\n",
    "    print(i, '->', reverse_word_index[i])\n"
   ],
   "outputs": [
    {
     "name": "stdout",
     "output_type": "stream",
     "text": [
      "1 -> the\n",
      "2 -> and\n",
      "3 -> a\n",
      "4 -> of\n",
      "5 -> to\n",
      "6 -> is\n",
      "7 -> br\n",
      "8 -> in\n",
      "9 -> it\n",
      "10 -> i\n",
      "11 -> this\n",
      "12 -> that\n",
      "13 -> was\n",
      "14 -> as\n",
      "15 -> for\n",
      "16 -> with\n",
      "17 -> movie\n",
      "18 -> but\n",
      "19 -> film\n",
      "20 -> on\n"
     ]
    }
   ],
   "execution_count": 10
  },
  {
   "cell_type": "markdown",
   "metadata": {
    "id": "wymVK833PN2i"
   },
   "source": [
    "## Раскодируем сообщения\n",
    "\n",
    "Служебные коды:  \n",
    "0 - символ заполнитель  \n",
    "1 - начало последовательности  \n",
    "2 - неизвестное слово  "
   ]
  },
  {
   "metadata": {},
   "cell_type": "markdown",
   "source": "Печатаем первые 20 слов из 5й рецензии в тренировочном датасете без смещения на 3 (тоесть некорректно)"
  },
  {
   "metadata": {},
   "cell_type": "code",
   "outputs": [
    {
     "name": "stdout",
     "output_type": "stream",
     "text": [
      "the\n",
      "effort\n",
      "still\n",
      "been\n",
      "that\n",
      "usually\n",
      "makes\n",
      "for\n",
      "of\n",
      "finished\n",
      "sucking\n",
      "ended\n",
      "and\n",
      "an\n",
      "because\n",
      "before\n",
      "if\n",
      "just\n",
      "though\n",
      "something\n"
     ]
    }
   ],
   "execution_count": 11,
   "source": [
    "for i in range(20):\n",
    "    print(reverse_word_index.get(x_train[5][i]))"
   ]
  },
  {
   "metadata": {},
   "cell_type": "markdown",
   "source": "Печатаем первые 20 слов из 5й рецензии в тренировочном датасете "
  },
  {
   "metadata": {},
   "cell_type": "code",
   "outputs": [
    {
     "name": "stdout",
     "output_type": "stream",
     "text": [
      "*\n",
      "begins\n",
      "better\n",
      "than\n",
      "it\n",
      "ends\n",
      "funny\n",
      "that\n",
      "the\n",
      "russian\n",
      "submarine\n",
      "crew\n",
      "*\n",
      "all\n",
      "other\n",
      "actors\n",
      "it's\n",
      "like\n",
      "those\n",
      "scenes\n"
     ]
    }
   ],
   "execution_count": 12,
   "source": [
    "for i in range(20):\n",
    "    print(reverse_word_index.get(x_train[5][i]-3, \"?\"))"
   ]
  },
  {
   "metadata": {},
   "cell_type": "markdown",
   "source": "Печатаем все слова из 5й рецензии в тренировочном датасете "
  },
  {
   "cell_type": "code",
   "metadata": {
    "colab": {
     "base_uri": "https://localhost:8080/",
     "height": 54
    },
    "id": "dTA_4y_YPRKC",
    "outputId": "651c47ae-eb4d-4b88-f2ce-c99d23b2976b",
    "ExecuteTime": {
     "end_time": "2024-09-01T18:26:09.672583Z",
     "start_time": "2024-09-01T18:26:09.668230Z"
    }
   },
   "source": [
    "message = ''\n",
    "for code in x_train[5]:\n",
    "    word = reverse_word_index.get(code - 3, '?')\n",
    "    message += word + ' '\n",
    "message"
   ],
   "outputs": [
    {
     "data": {
      "text/plain": [
       "\"? begins better than it ends funny that the russian submarine crew ? all other actors it's like those scenes where documentary shots br br spoiler part the message ? was contrary to the whole story it just does not ? br br \""
      ]
     },
     "execution_count": 11,
     "metadata": {},
     "output_type": "execute_result"
    }
   ],
   "execution_count": 11
  },
  {
   "cell_type": "markdown",
   "metadata": {
    "id": "kiA7X0oWaS9Z"
   },
   "source": [
    "## Подготовка данных для обучения"
   ]
  },
  {
   "metadata": {},
   "cell_type": "markdown",
   "source": "Преобразование рецензий из векторов популярности слов в вектора длиной в максимально допустимое количество слов (словарь) и содержащие 1 для каждого использованного в рецензии слова на позиции соответствующей этому слову в словаре"
  },
  {
   "metadata": {
    "ExecuteTime": {
     "end_time": "2024-09-01T18:27:17.295143Z",
     "start_time": "2024-09-01T18:27:17.291872Z"
    }
   },
   "cell_type": "code",
   "source": [
    "def vectorize_sequences(sequences, dimension):\n",
    "    res = np.zeros((len(sequences), dimension))\n",
    "    for i, sequence in enumerate(sequences):\n",
    "        res[i, sequence] = 1\n",
    "    return res"
   ],
   "outputs": [],
   "execution_count": 13
  },
  {
   "metadata": {},
   "cell_type": "markdown",
   "source": ""
  },
  {
   "cell_type": "code",
   "metadata": {
    "id": "0YrjnapvMVwf",
    "ExecuteTime": {
     "end_time": "2024-09-01T18:27:22.807719Z",
     "start_time": "2024-09-01T18:27:20.846795Z"
    }
   },
   "source": [
    "x_train = vectorize_sequences(x_train, max_words)\n",
    "x_test = vectorize_sequences(x_test, max_words)"
   ],
   "outputs": [],
   "execution_count": 14
  },
  {
   "cell_type": "code",
   "metadata": {
    "colab": {
     "base_uri": "https://localhost:8080/",
     "height": 343
    },
    "id": "SnANlxwYMcNX",
    "outputId": "e9475e60-1723-4109-88ea-7f43421cb29f",
    "ExecuteTime": {
     "end_time": "2024-09-01T18:27:24.424499Z",
     "start_time": "2024-09-01T18:27:24.420484Z"
    }
   },
   "source": "x_train[5]",
   "outputs": [
    {
     "data": {
      "text/plain": [
       "array([0., 1., 1., ..., 0., 0., 0.])"
      ]
     },
     "execution_count": 15,
     "metadata": {},
     "output_type": "execute_result"
    }
   ],
   "execution_count": 15
  },
  {
   "metadata": {},
   "cell_type": "markdown",
   "source": "Преобразуем one hot представление обратно в слова и посмотрим как будет выглядеть такая рецензия после всех преобразований. Будет потерян порядок слов (первыми будут идти наиболее популярные слова) и не будут учитываться их повторы в рецензии."
  },
  {
   "metadata": {
    "ExecuteTime": {
     "end_time": "2024-09-01T18:27:35.872344Z",
     "start_time": "2024-09-01T18:27:35.866920Z"
    }
   },
   "cell_type": "code",
   "source": [
    "message = ''\n",
    "for i, v in enumerate(x_train[5]):\n",
    "    if v>0.9:\n",
    "        message += reverse_word_index.get(i - 3, '?') + ' '\n",
    "\n",
    "print(message)"
   ],
   "outputs": [
    {
     "name": "stdout",
     "output_type": "stream",
     "text": [
      "? ? the to br it that was not all like just it's story than other where does better scenes those actors funny part whole ends documentary shots message begins crew spoiler russian contrary submarine \n"
     ]
    }
   ],
   "execution_count": 16
  },
  {
   "cell_type": "markdown",
   "metadata": {
    "id": "rhSLT9WjTeMk"
   },
   "source": [
    "## Создание нейронной сети"
   ]
  },
  {
   "metadata": {},
   "cell_type": "markdown",
   "source": "Размерность первого слоя соответствует размеру словаря слов max_words используемым моделью. Что логично учитывая что каждая рецензия кодируется вектором такой размерностью"
  },
  {
   "metadata": {
    "id": "Lrzx1e4xTgzL",
    "ExecuteTime": {
     "end_time": "2024-09-01T18:28:48.209927Z",
     "start_time": "2024-09-01T18:28:48.181724Z"
    }
   },
   "cell_type": "code",
   "source": [
    "model = Sequential()\n",
    "model.add(Dense(128, activation='relu', input_shape=(max_words,)))\n",
    "model.add(Dense(64, activation='relu'))\n",
    "model.add(Dense(1, activation='sigmoid'))"
   ],
   "outputs": [],
   "execution_count": 19
  },
  {
   "cell_type": "code",
   "metadata": {
    "id": "u1yNam-uSunE",
    "ExecuteTime": {
     "end_time": "2024-09-01T18:28:49.640262Z",
     "start_time": "2024-09-01T18:28:49.629747Z"
    }
   },
   "source": [
    "model.compile(optimizer='adam',\n",
    "              loss='binary_crossentropy',\n",
    "              metrics=['accuracy'])"
   ],
   "outputs": [],
   "execution_count": 20
  },
  {
   "cell_type": "markdown",
   "metadata": {
    "id": "9CHZwMttYMTb"
   },
   "source": [
    "## Обучаем нейронную сеть"
   ]
  },
  {
   "cell_type": "code",
   "metadata": {
    "colab": {
     "base_uri": "https://localhost:8080/",
     "height": 911
    },
    "id": "AkmNH7ahYLyc",
    "outputId": "ef0850a4-bf90-4993-d537-41abc808e4d4",
    "ExecuteTime": {
     "end_time": "2024-09-01T18:29:07.182112Z",
     "start_time": "2024-09-01T18:28:52.164711Z"
    }
   },
   "source": [
    "x_train = np.asarray(x_train).astype('float32')\n",
    "y_train = np.asarray(y_train).astype('float32')\n",
    "\n",
    "history = model.fit(x_train,\n",
    "                    y_train,\n",
    "                    epochs=7,\n",
    "                    batch_size=128,\n",
    "                    validation_split=0.1)"
   ],
   "outputs": [
    {
     "name": "stdout",
     "output_type": "stream",
     "text": [
      "Epoch 1/7\n",
      "\u001B[1m176/176\u001B[0m \u001B[32m━━━━━━━━━━━━━━━━━━━━\u001B[0m\u001B[37m\u001B[0m \u001B[1m3s\u001B[0m 12ms/step - accuracy: 0.8092 - loss: 0.4104 - val_accuracy: 0.8908 - val_loss: 0.2778\n",
      "Epoch 2/7\n",
      "\u001B[1m176/176\u001B[0m \u001B[32m━━━━━━━━━━━━━━━━━━━━\u001B[0m\u001B[37m\u001B[0m \u001B[1m2s\u001B[0m 11ms/step - accuracy: 0.9440 - loss: 0.1573 - val_accuracy: 0.8828 - val_loss: 0.3089\n",
      "Epoch 3/7\n",
      "\u001B[1m176/176\u001B[0m \u001B[32m━━━━━━━━━━━━━━━━━━━━\u001B[0m\u001B[37m\u001B[0m \u001B[1m2s\u001B[0m 10ms/step - accuracy: 0.9707 - loss: 0.0865 - val_accuracy: 0.8808 - val_loss: 0.3864\n",
      "Epoch 4/7\n",
      "\u001B[1m176/176\u001B[0m \u001B[32m━━━━━━━━━━━━━━━━━━━━\u001B[0m\u001B[37m\u001B[0m \u001B[1m2s\u001B[0m 10ms/step - accuracy: 0.9901 - loss: 0.0316 - val_accuracy: 0.8772 - val_loss: 0.5141\n",
      "Epoch 5/7\n",
      "\u001B[1m176/176\u001B[0m \u001B[32m━━━━━━━━━━━━━━━━━━━━\u001B[0m\u001B[37m\u001B[0m \u001B[1m2s\u001B[0m 10ms/step - accuracy: 0.9988 - loss: 0.0061 - val_accuracy: 0.8756 - val_loss: 0.6140\n",
      "Epoch 6/7\n",
      "\u001B[1m176/176\u001B[0m \u001B[32m━━━━━━━━━━━━━━━━━━━━\u001B[0m\u001B[37m\u001B[0m \u001B[1m2s\u001B[0m 10ms/step - accuracy: 0.9999 - loss: 0.0013 - val_accuracy: 0.8776 - val_loss: 0.7181\n",
      "Epoch 7/7\n",
      "\u001B[1m176/176\u001B[0m \u001B[32m━━━━━━━━━━━━━━━━━━━━\u001B[0m\u001B[37m\u001B[0m \u001B[1m2s\u001B[0m 10ms/step - accuracy: 1.0000 - loss: 4.2500e-04 - val_accuracy: 0.8796 - val_loss: 0.7721\n"
     ]
    }
   ],
   "execution_count": 21
  },
  {
   "cell_type": "code",
   "metadata": {
    "colab": {
     "base_uri": "https://localhost:8080/",
     "height": 283
    },
    "id": "bYsG9bOZSeOu",
    "outputId": "c25a7319-deb6-4ac2-b30c-813eec7d5fe5",
    "ExecuteTime": {
     "end_time": "2024-09-01T18:29:08.742163Z",
     "start_time": "2024-09-01T18:29:08.599820Z"
    }
   },
   "source": [
    "plt.plot(history.history['accuracy'],\n",
    "         label='Доля верных ответов на обучающем наборе')\n",
    "plt.plot(history.history['val_accuracy'],\n",
    "         label='Доля верных ответов на проверочном наборе')\n",
    "plt.xlabel('Эпоха обучения')\n",
    "plt.ylabel('Доля верных ответов')\n",
    "plt.legend()\n",
    "plt.show()"
   ],
   "outputs": [
    {
     "data": {
      "text/plain": [
       "<Figure size 640x480 with 1 Axes>"
      ],
      "image/png": "[encoded data removed]"
     },
     "metadata": {},
     "output_type": "display_data"
    }
   ],
   "execution_count": 22
  },
  {
   "cell_type": "markdown",
   "metadata": {
    "id": "HnnIy3JlEGqW"
   },
   "source": [
    "## Проверяем работу сети на тестовом наборе данных"
   ]
  },
  {
   "cell_type": "code",
   "metadata": {
    "colab": {
     "base_uri": "https://localhost:8080/",
     "height": 34
    },
    "id": "J1_ilV14EKBO",
    "outputId": "df322800-751a-4a4c-bbcf-58ea80360bb4",
    "ExecuteTime": {
     "end_time": "2024-09-01T18:29:19.628607Z",
     "start_time": "2024-09-01T18:29:17.901709Z"
    }
   },
   "source": [
    "scores = model.evaluate(x_test, y_test, verbose=1)"
   ],
   "outputs": [
    {
     "name": "stdout",
     "output_type": "stream",
     "text": [
      "\u001B[1m782/782\u001B[0m \u001B[32m━━━━━━━━━━━━━━━━━━━━\u001B[0m\u001B[37m\u001B[0m \u001B[1m1s\u001B[0m 1ms/step - accuracy: 0.8679 - loss: 0.8069\n"
     ]
    }
   ],
   "execution_count": 24
  },
  {
   "cell_type": "code",
   "metadata": {
    "colab": {
     "base_uri": "https://localhost:8080/",
     "height": 34
    },
    "id": "l2ZOXG6-EYBW",
    "outputId": "385f7fb3-7873-4955-8c4b-3f4088bb73c3",
    "ExecuteTime": {
     "end_time": "2024-09-01T12:51:02.478224Z",
     "start_time": "2024-09-01T12:51:02.474657Z"
    }
   },
   "source": [
    "print(\"Доля верных ответов на тестовых данных, в процентах:\", round(scores[1] * 100, 4))"
   ],
   "outputs": [
    {
     "name": "stdout",
     "output_type": "stream",
     "text": [
      "Доля верных ответов на тестовых данных, в процентах: 86.292\n"
     ]
    }
   ],
   "execution_count": 25
  },
  {
   "metadata": {},
   "cell_type": "markdown",
   "source": "Результаты получше, далее попробуем представление текста рецензий в виде плотного вектора (embedding)"
  }
 ],
 "metadata": {
  "accelerator": "GPU",
  "colab": {
   "provenance": []
  },
  "kernelspec": {
   "display_name": "Python 3 (ipykernel)",
   "language": "python",
   "name": "python3"
  },
  "language_info": {
   "codemirror_mode": {
    "name": "ipython",
    "version": 3
   },
   "file_extension": ".py",
   "mimetype": "text/x-python",
   "name": "python",
   "nbconvert_exporter": "python",
   "pygments_lexer": "ipython3",
   "version": "3.12.5"
  }
 },
 "nbformat": 4,
 "nbformat_minor": 4
}
