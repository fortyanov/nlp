{
 "cells": [
  {
   "metadata": {},
   "cell_type": "markdown",
   "source": "## Рекуррентная нейросеть для определения тональности текста отзывов на фильмы из IMDb с использованием представления входного текста плотными векторами\n",
   "id": "8753135fd1334db3"
  },
  {
   "metadata": {},
   "cell_type": "markdown",
   "source": "## Набор данных IMDb movie review",
   "id": "e2684bd73c6bd54e"
  },
  {
   "metadata": {},
   "cell_type": "markdown",
   "source": [
    "[Набор данных IMDb movie review](https://ai.stanford.edu/~amaas/data/sentiment/) создан для задач определения тональности текста. Набор включает отзывы на фильмы с сайта [IMDb](https://www.imdb.com). Отзывы только явно положительные (оценка >= 7) или отрицательные (оценка <= 4), нейтральные отзывы в набор данных не включались.\n",
    "\n",
    "Размер набора данных 50 тыс. отзывов:\n",
    "- Набор данных для обучения - 25 тыс. отзывов\n",
    "- Набор данных для тестирования - 25 тыс. отзывов\n",
    "\n",
    "Количество положительных и отрицательных отзывов одинаковое.\n",
    "\n",
    "Разметка набора данных:\n",
    "- 0 - отзыв отрицательный\n",
    "- 1 - отзыв положительный\n",
    "\n",
    "С точки зрения машинного обучения это задача бинарной классификации.\n",
    "\n",
    "Набор данных описан в статье: [Andrew L. Maas, Raymond E. Daly, Peter T. Pham, Dan Huang, Andrew Y. Ng, and Christopher Potts. (2011). Learning Word Vectors for Sentiment Analysis. The 49th Annual Meeting of the Association for Computational Linguistics (ACL 2011)](https://ai.stanford.edu/~amaas/papers/wvSent_acl2011.pdf)."
   ],
   "id": "ed6662e877bd87d6"
  },
  {
   "metadata": {
    "ExecuteTime": {
     "end_time": "2024-09-03T12:46:07.448077Z",
     "start_time": "2024-09-03T12:46:07.443843Z"
    }
   },
   "cell_type": "code",
   "source": [
    "from tensorflow.keras.datasets import imdb\n",
    "from tensorflow.keras.models import Sequential\n",
    "from tensorflow.keras.layers import Dense, Embedding, Flatten, Dropout, SimpleRNN\n",
    "from tensorflow.keras import utils\n",
    "from tensorflow.keras.preprocessing.sequence import pad_sequences\n",
    "import numpy as np\n",
    "import matplotlib.pyplot as plt\n",
    "from utils.utils import *\n",
    "%matplotlib inline "
   ],
   "id": "83a527dd1f2ee67c",
   "outputs": [],
   "execution_count": 2
  },
  {
   "metadata": {},
   "cell_type": "markdown",
   "source": "Определяем максимально возможное количество слов, те слова которые встречаются реже чем слово с указанным индексом в словаре игнорируются\n",
   "id": "d99c10826a731d11"
  },
  {
   "metadata": {
    "ExecuteTime": {
     "end_time": "2024-09-03T12:46:09.495833Z",
     "start_time": "2024-09-03T12:46:09.492919Z"
    }
   },
   "cell_type": "code",
   "source": "max_words = 10000",
   "id": "47feacc730906b8f",
   "outputs": [],
   "execution_count": 3
  },
  {
   "metadata": {},
   "cell_type": "markdown",
   "source": "## Загружаем данные",
   "id": "ccdc10dfeb3a7251"
  },
  {
   "metadata": {
    "ExecuteTime": {
     "end_time": "2024-09-03T12:46:14.487600Z",
     "start_time": "2024-09-03T12:46:11.016153Z"
    }
   },
   "cell_type": "code",
   "source": "(x_train, y_train), (x_test, y_test) = imdb.load_data(num_words=max_words)",
   "id": "1b02182a79a6d29f",
   "outputs": [],
   "execution_count": 4
  },
  {
   "metadata": {},
   "cell_type": "markdown",
   "source": "## Просмотр данных",
   "id": "bc441722ace8384c"
  },
  {
   "metadata": {},
   "cell_type": "markdown",
   "source": "Рецензия",
   "id": "58a3d419d1fcf7f9"
  },
  {
   "metadata": {
    "ExecuteTime": {
     "end_time": "2024-09-03T12:54:03.975465Z",
     "start_time": "2024-09-03T12:54:03.969592Z"
    }
   },
   "cell_type": "code",
   "source": "x_train[5]",
   "id": "95c685462e50b9f9",
   "outputs": [
    {
     "data": {
      "text/plain": [
       "[1,\n",
       " 778,\n",
       " 128,\n",
       " 74,\n",
       " 12,\n",
       " 630,\n",
       " 163,\n",
       " 15,\n",
       " 4,\n",
       " 1766,\n",
       " 7982,\n",
       " 1051,\n",
       " 2,\n",
       " 32,\n",
       " 85,\n",
       " 156,\n",
       " 45,\n",
       " 40,\n",
       " 148,\n",
       " 139,\n",
       " 121,\n",
       " 664,\n",
       " 665,\n",
       " 10,\n",
       " 10,\n",
       " 1361,\n",
       " 173,\n",
       " 4,\n",
       " 749,\n",
       " 2,\n",
       " 16,\n",
       " 3804,\n",
       " 8,\n",
       " 4,\n",
       " 226,\n",
       " 65,\n",
       " 12,\n",
       " 43,\n",
       " 127,\n",
       " 24,\n",
       " 2,\n",
       " 10,\n",
       " 10]"
      ]
     },
     "execution_count": 5,
     "metadata": {},
     "output_type": "execute_result"
    }
   ],
   "execution_count": 5
  },
  {
   "metadata": {},
   "cell_type": "markdown",
   "source": "Ожидаемый эмоциональный окрас",
   "id": "b54061be3a639932"
  },
  {
   "metadata": {
    "ExecuteTime": {
     "end_time": "2024-09-03T12:54:06.180771Z",
     "start_time": "2024-09-03T12:54:06.176698Z"
    }
   },
   "cell_type": "code",
   "source": "y_train[5]",
   "id": "e68a70a702e50a16",
   "outputs": [
    {
     "data": {
      "text/plain": [
       "0"
      ]
     },
     "execution_count": 6,
     "metadata": {},
     "output_type": "execute_result"
    }
   ],
   "execution_count": 6
  },
  {
   "metadata": {},
   "cell_type": "markdown",
   "source": "## Подготовка данных для обучения",
   "id": "2ad896a734228bdf"
  },
  {
   "metadata": {},
   "cell_type": "markdown",
   "source": "Длина слов к которой приводится каждая рецензия",
   "id": "b5e6a79c12621e5d"
  },
  {
   "metadata": {
    "ExecuteTime": {
     "end_time": "2024-09-03T12:54:08.680227Z",
     "start_time": "2024-09-03T12:54:08.677742Z"
    }
   },
   "cell_type": "code",
   "source": "maxlen = 200",
   "id": "b7959b69d3c7f0fd",
   "outputs": [],
   "execution_count": 7
  },
  {
   "metadata": {},
   "cell_type": "markdown",
   "source": "Так как для работы нейросети первый слой обязан быть фиксированной длины, используем pad_sequences для обрезки или дополнения вектора с рецензией до maxlen. В случае короткой рецензии проставляем нули с левой стороны, потому что простая рекуррентная сеть имеет ограниченную область запоминания предыдущего контекста слов в последовательности и если в конце будут нули то рекуррентная сеть преимущественно будет анализировать эти нули ",
   "id": "604acd86a24b4a96"
  },
  {
   "metadata": {
    "ExecuteTime": {
     "end_time": "2024-09-03T12:54:12.198064Z",
     "start_time": "2024-09-03T12:54:11.557488Z"
    }
   },
   "cell_type": "code",
   "source": [
    "x_train = pad_sequences(x_train, maxlen=maxlen, padding='pre')\n",
    "x_test = pad_sequences(x_test, maxlen=maxlen, padding='pre')"
   ],
   "id": "d16b5f4e0c3cac1d",
   "outputs": [],
   "execution_count": 8
  },
  {
   "metadata": {
    "ExecuteTime": {
     "end_time": "2024-09-03T12:54:14.001570Z",
     "start_time": "2024-09-03T12:54:13.996689Z"
    }
   },
   "cell_type": "code",
   "source": "x_train[5]",
   "id": "38724ac17a698e46",
   "outputs": [
    {
     "data": {
      "text/plain": [
       "array([   0,    0,    0,    0,    0,    0,    0,    0,    0,    0,    0,\n",
       "          0,    0,    0,    0,    0,    0,    0,    0,    0,    0,    0,\n",
       "          0,    0,    0,    0,    0,    0,    0,    0,    0,    0,    0,\n",
       "          0,    0,    0,    0,    0,    0,    0,    0,    0,    0,    0,\n",
       "          0,    0,    0,    0,    0,    0,    0,    0,    0,    0,    0,\n",
       "          0,    0,    0,    0,    0,    0,    0,    0,    0,    0,    0,\n",
       "          0,    0,    0,    0,    0,    0,    0,    0,    0,    0,    0,\n",
       "          0,    0,    0,    0,    0,    0,    0,    0,    0,    0,    0,\n",
       "          0,    0,    0,    0,    0,    0,    0,    0,    0,    0,    0,\n",
       "          0,    0,    0,    0,    0,    0,    0,    0,    0,    0,    0,\n",
       "          0,    0,    0,    0,    0,    0,    0,    0,    0,    0,    0,\n",
       "          0,    0,    0,    0,    0,    0,    0,    0,    0,    0,    0,\n",
       "          0,    0,    0,    0,    0,    0,    0,    0,    0,    0,    0,\n",
       "          0,    0,    0,    0,    0,    0,    0,    0,    0,    0,    0,\n",
       "          0,    0,    0,    1,  778,  128,   74,   12,  630,  163,   15,\n",
       "          4, 1766, 7982, 1051,    2,   32,   85,  156,   45,   40,  148,\n",
       "        139,  121,  664,  665,   10,   10, 1361,  173,    4,  749,    2,\n",
       "         16, 3804,    8,    4,  226,   65,   12,   43,  127,   24,    2,\n",
       "         10,   10])"
      ]
     },
     "execution_count": 9,
     "metadata": {},
     "output_type": "execute_result"
    }
   ],
   "execution_count": 9
  },
  {
   "metadata": {},
   "cell_type": "markdown",
   "source": "## Создание нейронной сети\n",
   "id": "7e156b014ce18f25"
  },
  {
   "metadata": {},
   "cell_type": "markdown",
   "source": "Входной слой оборачиваем в Embedding преобразующий его в массив слов, где каждое слово каждое слово представлено вектором из 3х элементов. Вектора для каждого слова обучаются с помощью back propagation",
   "id": "7ea202ec35450619"
  },
  {
   "metadata": {
    "ExecuteTime": {
     "end_time": "2024-09-03T13:34:57.043594Z",
     "start_time": "2024-09-03T13:34:57.039506Z"
    }
   },
   "cell_type": "code",
   "source": [
    "model = Sequential()\n",
    "model.add(Embedding(max_words, 3, input_length=maxlen))"
   ],
   "id": "612a0e74373bb2b6",
   "outputs": [],
   "execution_count": 11
  },
  {
   "metadata": {},
   "cell_type": "markdown",
   "source": "output shape=(None, 200, 3)",
   "id": "dfe6404d0a258d7f"
  },
  {
   "metadata": {},
   "cell_type": "markdown",
   "source": "Добавляем слой рекуррентной слой на 8 нейронов",
   "id": "88f478684c8d0df0"
  },
  {
   "metadata": {
    "ExecuteTime": {
     "end_time": "2024-09-03T13:35:10.536611Z",
     "start_time": "2024-09-03T13:35:10.510480Z"
    }
   },
   "cell_type": "code",
   "source": "model.add(SimpleRNN(8))",
   "id": "dc6803d43ec12cbe",
   "outputs": [],
   "execution_count": 12
  },
  {
   "metadata": {},
   "cell_type": "markdown",
   "source": "",
   "id": "174c63b17a11c503"
  },
  {
   "metadata": {},
   "cell_type": "markdown",
   "source": "Зануляем случайную половину весов при каждом forward шаге на этапе обучения для уменьшения эффекта переобучения",
   "id": "9b569311eeb90a17"
  },
  {
   "metadata": {
    "ExecuteTime": {
     "end_time": "2024-09-03T13:35:12.055395Z",
     "start_time": "2024-09-03T13:35:12.049385Z"
    }
   },
   "cell_type": "code",
   "source": "model.add(Dropout(0.5))",
   "id": "a8ad844bd5db158c",
   "outputs": [],
   "execution_count": 13
  },
  {
   "metadata": {},
   "cell_type": "markdown",
   "source": "Добавляем выходной слой",
   "id": "f1a4e0f949ffa49e"
  },
  {
   "metadata": {
    "ExecuteTime": {
     "end_time": "2024-09-03T13:35:17.278969Z",
     "start_time": "2024-09-03T13:35:17.275409Z"
    }
   },
   "cell_type": "code",
   "source": "model.add(Dense(1, activation='sigmoid'))",
   "id": "55b322824b341244",
   "outputs": [],
   "execution_count": 14
  },
  {
   "metadata": {},
   "cell_type": "markdown",
   "source": "output shape=(None, 1)",
   "id": "7eda4dbd33468df7"
  },
  {
   "metadata": {},
   "cell_type": "markdown",
   "source": "Выбираем оптимизатор градиентного спуска, функцию потерь и оценку качества чтобы потом можно было визуализировать\n",
   "id": "d4239f6db068933d"
  },
  {
   "metadata": {
    "ExecuteTime": {
     "end_time": "2024-09-03T13:35:20.362733Z",
     "start_time": "2024-09-03T13:35:20.345386Z"
    }
   },
   "cell_type": "code",
   "source": [
    "model.compile(optimizer='adam', \n",
    "              loss='binary_crossentropy', \n",
    "              metrics=['accuracy'])"
   ],
   "id": "14d1c4558f4efb6d",
   "outputs": [],
   "execution_count": 15
  },
  {
   "metadata": {},
   "cell_type": "markdown",
   "source": "## Обучаем нейронную сеть",
   "id": "6d55544f3795dae"
  },
  {
   "metadata": {
    "ExecuteTime": {
     "end_time": "2024-09-03T13:36:16.109559Z",
     "start_time": "2024-09-03T13:35:34.748248Z"
    }
   },
   "cell_type": "code",
   "source": [
    "history = model.fit(x_train, \n",
    "                    y_train, \n",
    "                    epochs=10,\n",
    "                    batch_size=128,\n",
    "                    validation_split=0.1)"
   ],
   "id": "97c221b253ff5f44",
   "outputs": [
    {
     "name": "stdout",
     "output_type": "stream",
     "text": [
      "Epoch 1/10\n",
      "\u001B[1m176/176\u001B[0m \u001B[32m━━━━━━━━━━━━━━━━━━━━\u001B[0m\u001B[37m\u001B[0m \u001B[1m6s\u001B[0m 24ms/step - accuracy: 0.5384 - loss: 0.6885 - val_accuracy: 0.7396 - val_loss: 0.5983\n",
      "Epoch 2/10\n",
      "\u001B[1m176/176\u001B[0m \u001B[32m━━━━━━━━━━━━━━━━━━━━\u001B[0m\u001B[37m\u001B[0m \u001B[1m4s\u001B[0m 22ms/step - accuracy: 0.7764 - loss: 0.5412 - val_accuracy: 0.8372 - val_loss: 0.4217\n",
      "Epoch 3/10\n",
      "\u001B[1m176/176\u001B[0m \u001B[32m━━━━━━━━━━━━━━━━━━━━\u001B[0m\u001B[37m\u001B[0m \u001B[1m4s\u001B[0m 22ms/step - accuracy: 0.8407 - loss: 0.4224 - val_accuracy: 0.8392 - val_loss: 0.3806\n",
      "Epoch 4/10\n",
      "\u001B[1m176/176\u001B[0m \u001B[32m━━━━━━━━━━━━━━━━━━━━\u001B[0m\u001B[37m\u001B[0m \u001B[1m4s\u001B[0m 22ms/step - accuracy: 0.8504 - loss: 0.3854 - val_accuracy: 0.8500 - val_loss: 0.3647\n",
      "Epoch 5/10\n",
      "\u001B[1m176/176\u001B[0m \u001B[32m━━━━━━━━━━━━━━━━━━━━\u001B[0m\u001B[37m\u001B[0m \u001B[1m4s\u001B[0m 22ms/step - accuracy: 0.8862 - loss: 0.3229 - val_accuracy: 0.8500 - val_loss: 0.3666\n",
      "Epoch 6/10\n",
      "\u001B[1m176/176\u001B[0m \u001B[32m━━━━━━━━━━━━━━━━━━━━\u001B[0m\u001B[37m\u001B[0m \u001B[1m4s\u001B[0m 22ms/step - accuracy: 0.8987 - loss: 0.2961 - val_accuracy: 0.8544 - val_loss: 0.3668\n",
      "Epoch 7/10\n",
      "\u001B[1m176/176\u001B[0m \u001B[32m━━━━━━━━━━━━━━━━━━━━\u001B[0m\u001B[37m\u001B[0m \u001B[1m4s\u001B[0m 22ms/step - accuracy: 0.9150 - loss: 0.2654 - val_accuracy: 0.8568 - val_loss: 0.3794\n",
      "Epoch 8/10\n",
      "\u001B[1m176/176\u001B[0m \u001B[32m━━━━━━━━━━━━━━━━━━━━\u001B[0m\u001B[37m\u001B[0m \u001B[1m4s\u001B[0m 22ms/step - accuracy: 0.9227 - loss: 0.2483 - val_accuracy: 0.8580 - val_loss: 0.3800\n",
      "Epoch 9/10\n",
      "\u001B[1m176/176\u001B[0m \u001B[32m━━━━━━━━━━━━━━━━━━━━\u001B[0m\u001B[37m\u001B[0m \u001B[1m4s\u001B[0m 23ms/step - accuracy: 0.9317 - loss: 0.2158 - val_accuracy: 0.8488 - val_loss: 0.3950\n",
      "Epoch 10/10\n",
      "\u001B[1m176/176\u001B[0m \u001B[32m━━━━━━━━━━━━━━━━━━━━\u001B[0m\u001B[37m\u001B[0m \u001B[1m4s\u001B[0m 22ms/step - accuracy: 0.9368 - loss: 0.2093 - val_accuracy: 0.8548 - val_loss: 0.3873\n"
     ]
    }
   ],
   "execution_count": 16
  },
  {
   "metadata": {
    "ExecuteTime": {
     "end_time": "2024-09-03T13:37:10.530965Z",
     "start_time": "2024-09-03T13:37:10.404006Z"
    }
   },
   "cell_type": "code",
   "source": [
    "plt.plot(history.history['accuracy'],\n",
    "         label='Доля верных ответов на обучающем наборе')\n",
    "plt.plot(history.history['val_accuracy'],\n",
    "         label='Доля верных ответов на проверочном наборе')\n",
    "plt.xlabel('Эпоха обучения')\n",
    "plt.ylabel('Доля верных ответов')\n",
    "plt.legend()\n",
    "plt.show()"
   ],
   "id": "4849f1fad3449f9b",
   "outputs": [
    {
     "data": {
      "text/plain": [
       "<Figure size 640x480 with 1 Axes>"
      ],
      "image/png": "[encoded data removed]"
     },
     "metadata": {},
     "output_type": "display_data"
    }
   ],
   "execution_count": 17
  },
  {
   "metadata": {},
   "cell_type": "markdown",
   "source": "## Проверяем работу сети на тестовом наборе данных",
   "id": "aab7a8c9bfc35a36"
  },
  {
   "metadata": {
    "ExecuteTime": {
     "end_time": "2024-09-03T13:37:57.019591Z",
     "start_time": "2024-09-03T13:37:53.367514Z"
    }
   },
   "cell_type": "code",
   "source": "scores = model.evaluate(x_test, y_test, verbose=1)",
   "id": "ac5d00e36c5cd5ee",
   "outputs": [
    {
     "name": "stdout",
     "output_type": "stream",
     "text": [
      "\u001B[1m782/782\u001B[0m \u001B[32m━━━━━━━━━━━━━━━━━━━━\u001B[0m\u001B[37m\u001B[0m \u001B[1m4s\u001B[0m 5ms/step - accuracy: 0.8386 - loss: 0.4154\n"
     ]
    }
   ],
   "execution_count": 18
  },
  {
   "metadata": {},
   "cell_type": "markdown",
   "source": "",
   "id": "37964dedcf040fa4"
  }
 ],
 "metadata": {
  "kernelspec": {
   "display_name": "Python 3",
   "language": "python",
   "name": "python3"
  },
  "language_info": {
   "codemirror_mode": {
    "name": "ipython",
    "version": 2
   },
   "file_extension": ".py",
   "mimetype": "text/x-python",
   "name": "python",
   "nbconvert_exporter": "python",
   "pygments_lexer": "ipython2",
   "version": "2.7.6"
  }
 },
 "nbformat": 4,
 "nbformat_minor": 5
}
