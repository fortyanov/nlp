{
 "cells": [
  {
   "cell_type": "markdown",
   "metadata": {
    "id": "Lv1nORvnYVQn"
   },
   "source": "# Простейшая полносвязная нейросеть для определения тональности текста отзывов на фильмы из IMDb"
  },
  {
   "cell_type": "markdown",
   "metadata": {
    "id": "sU_nuqLaTHYg"
   },
   "source": [
    "## Набор данных IMDb movie review\n",
    "\n",
    "[Набор данных IMDb movie review](https://ai.stanford.edu/~amaas/data/sentiment/) создан для задач определения тональности текста. Набор включает отзывы на фильмы с сайта [IMDb](https://www.imdb.com). Отзывы только явно положительные (оценка >= 7) или отрицательные (оценка <= 4), нейтральные отзывы в набор данных не включались.\n",
    "\n",
    "Размер набора данных 50 тыс. отзывов:\n",
    "- Набор данных для обучения - 25 тыс. отзывов\n",
    "- Набор данных для тестирования - 25 тыс. отзывов\n",
    "\n",
    "Количество положительных и отрицательных отзывов одинаковое.\n",
    "\n",
    "Разметка набора данных:\n",
    "- 0 - отзыв отрицательный\n",
    "- 1 - отзыв положительный\n",
    "\n",
    "С точки зрения машинного обучения это задача бинарной классификации.\n",
    "\n",
    "Набор данных описан в статье: [Andrew L. Maas, Raymond E. Daly, Peter T. Pham, Dan Huang, Andrew Y. Ng, and Christopher Potts. (2011). Learning Word Vectors for Sentiment Analysis. The 49th Annual Meeting of the Association for Computational Linguistics (ACL 2011)](https://ai.stanford.edu/~amaas/papers/wvSent_acl2011.pdf)."
   ]
  },
  {
   "cell_type": "code",
   "metadata": {
    "id": "lpsyhVlJX5XH",
    "ExecuteTime": {
     "end_time": "2024-08-30T13:36:05.969357Z",
     "start_time": "2024-08-30T13:36:05.965127Z"
    }
   },
   "source": [
    "from tensorflow.keras.datasets import imdb\n",
    "from tensorflow.keras.models import Sequential\n",
    "from tensorflow.keras.layers import Dense\n",
    "from tensorflow.keras import utils\n",
    "from tensorflow.keras.preprocessing.sequence import pad_sequences\n",
    "import numpy as np\n",
    "import tensorflow as tf\n",
    "from itertools import islice\n",
    "import matplotlib.pyplot as plt\n",
    "%matplotlib inline"
   ],
   "outputs": [],
   "execution_count": 4
  },
  {
   "metadata": {},
   "cell_type": "markdown",
   "source": "Определяем максимально возможное количество слов, те слова которые встречаются реже чем слово с указанным индексом в словаре игнорируются"
  },
  {
   "metadata": {
    "id": "kBUUyZ4cbxoM",
    "ExecuteTime": {
     "end_time": "2024-08-30T13:24:30.321740Z",
     "start_time": "2024-08-30T13:24:30.318740Z"
    }
   },
   "cell_type": "code",
   "outputs": [],
   "execution_count": 2,
   "source": "max_words=10000"
  },
  {
   "metadata": {
    "id": "xGDJkdINNWVh"
   },
   "cell_type": "markdown",
   "source": "## Загружаем данные"
  },
  {
   "cell_type": "code",
   "metadata": {
    "id": "toRj2Xs1NZgB",
    "ExecuteTime": {
     "end_time": "2024-08-30T14:08:08.240409Z",
     "start_time": "2024-08-30T14:07:57.978854Z"
    }
   },
   "source": [
    "(x_train, y_train), (x_test, y_test) = imdb.load_data(num_words=max_words)"
   ],
   "outputs": [],
   "execution_count": 29
  },
  {
   "cell_type": "markdown",
   "metadata": {
    "id": "cLwFe4_aaXWP"
   },
   "source": [
    "## Просмотр данных"
   ]
  },
  {
   "cell_type": "markdown",
   "metadata": {
    "id": "0bE25agXLwCp"
   },
   "source": [
    "Рецензия"
   ]
  },
  {
   "cell_type": "code",
   "metadata": {
    "colab": {
     "base_uri": "https://localhost:8080/",
     "height": 1000
    },
    "id": "_XeruR8UaZRm",
    "outputId": "ade5a2d4-d0f7-4db5-8c1d-46a21b270d88",
    "scrolled": true,
    "ExecuteTime": {
     "end_time": "2024-08-30T13:49:36.565972Z",
     "start_time": "2024-08-30T13:49:36.559509Z"
    }
   },
   "source": [
    "x_train[5]"
   ],
   "outputs": [
    {
     "data": {
      "text/plain": [
       "[1,\n",
       " 778,\n",
       " 128,\n",
       " 74,\n",
       " 12,\n",
       " 630,\n",
       " 163,\n",
       " 15,\n",
       " 4,\n",
       " 1766,\n",
       " 7982,\n",
       " 1051,\n",
       " 2,\n",
       " 32,\n",
       " 85,\n",
       " 156,\n",
       " 45,\n",
       " 40,\n",
       " 148,\n",
       " 139,\n",
       " 121,\n",
       " 664,\n",
       " 665,\n",
       " 10,\n",
       " 10,\n",
       " 1361,\n",
       " 173,\n",
       " 4,\n",
       " 749,\n",
       " 2,\n",
       " 16,\n",
       " 3804,\n",
       " 8,\n",
       " 4,\n",
       " 226,\n",
       " 65,\n",
       " 12,\n",
       " 43,\n",
       " 127,\n",
       " 24,\n",
       " 2,\n",
       " 10,\n",
       " 10]"
      ]
     },
     "execution_count": 7,
     "metadata": {},
     "output_type": "execute_result"
    }
   ],
   "execution_count": 7
  },
  {
   "cell_type": "markdown",
   "metadata": {
    "id": "Xdj6uFFaLzOx"
   },
   "source": [
    "Правильный ответ"
   ]
  },
  {
   "cell_type": "code",
   "metadata": {
    "colab": {
     "base_uri": "https://localhost:8080/",
     "height": 34
    },
    "id": "1tUhNPuRL1Kc",
    "outputId": "75c23ce5-e28a-4cdd-bc55-6a5f86fb32a0",
    "ExecuteTime": {
     "end_time": "2024-08-30T13:49:50.113072Z",
     "start_time": "2024-08-30T13:49:50.109372Z"
    }
   },
   "source": [
    "y_train[5]"
   ],
   "outputs": [
    {
     "data": {
      "text/plain": [
       "0"
      ]
     },
     "execution_count": 8,
     "metadata": {},
     "output_type": "execute_result"
    }
   ],
   "execution_count": 8
  },
  {
   "cell_type": "markdown",
   "metadata": {
    "id": "gouAhubOL986"
   },
   "source": [
    "## Раскодируем текст рецензии"
   ]
  },
  {
   "cell_type": "markdown",
   "metadata": {
    "id": "qqfrkzxpbMiv"
   },
   "source": [
    "В наборе данных IMDB используется частотное кодирование слов. Загрузим словарь, который использовался для кодирования."
   ]
  },
  {
   "cell_type": "code",
   "metadata": {
    "id": "yrFecqo1bTFH",
    "ExecuteTime": {
     "end_time": "2024-08-30T13:49:52.762962Z",
     "start_time": "2024-08-30T13:49:52.703944Z"
    }
   },
   "source": [
    "word_index = imdb.get_word_index()"
   ],
   "outputs": [],
   "execution_count": 9
  },
  {
   "cell_type": "code",
   "metadata": {
    "colab": {
     "base_uri": "https://localhost:8080/",
     "height": 1000
    },
    "id": "Qk9NMqABbXCo",
    "outputId": "84ec15cf-a777-4e86-e172-bdf291736284",
    "scrolled": true,
    "ExecuteTime": {
     "end_time": "2024-08-30T13:52:54.988294Z",
     "start_time": "2024-08-30T13:52:54.983028Z"
    }
   },
   "source": "list(islice(word_index.items(), 10))",
   "outputs": [
    {
     "data": {
      "text/plain": [
       "[('fawn', 34701),\n",
       " ('tsukino', 52006),\n",
       " ('nunnery', 52007),\n",
       " ('sonja', 16816),\n",
       " ('vani', 63951),\n",
       " ('woods', 1408),\n",
       " ('spiders', 16115),\n",
       " ('hanging', 2345),\n",
       " ('woody', 2289),\n",
       " ('trawling', 52008)]"
      ]
     },
     "execution_count": 19,
     "metadata": {},
     "output_type": "execute_result"
    }
   ],
   "execution_count": 19
  },
  {
   "cell_type": "markdown",
   "metadata": {
    "id": "zYeEcLwlOjVK"
   },
   "source": [
    "Преобразуем словарь, чтобы по номеру получать слово"
   ]
  },
  {
   "cell_type": "code",
   "execution_count": 9,
   "metadata": {
    "id": "AwqwYoPXOXfR"
   },
   "outputs": [],
   "source": [
    "reverse_word_index = dict()\n",
    "for key, value in word_index.items():\n",
    "    reverse_word_index[value] = key"
   ]
  },
  {
   "cell_type": "markdown",
   "metadata": {
    "id": "fOvfw95aNDX3"
   },
   "source": [
    "Печатаем 20 самых частых слов"
   ]
  },
  {
   "cell_type": "code",
   "execution_count": 10,
   "metadata": {
    "colab": {
     "base_uri": "https://localhost:8080/",
     "height": 360
    },
    "id": "8raHnOxeO5z6",
    "outputId": "520526e9-7f9a-428a-f43b-2598639368ae"
   },
   "outputs": [
    {
     "name": "stdout",
     "output_type": "stream",
     "text": [
      "1 -> the\n",
      "2 -> and\n",
      "3 -> a\n",
      "4 -> of\n",
      "5 -> to\n",
      "6 -> is\n",
      "7 -> br\n",
      "8 -> in\n",
      "9 -> it\n",
      "10 -> i\n",
      "11 -> this\n",
      "12 -> that\n",
      "13 -> was\n",
      "14 -> as\n",
      "15 -> for\n",
      "16 -> with\n",
      "17 -> movie\n",
      "18 -> but\n",
      "19 -> film\n",
      "20 -> on\n"
     ]
    }
   ],
   "source": [
    "for i in range(1, 21):\n",
    "    print(i, '->', reverse_word_index[i])\n"
   ]
  },
  {
   "cell_type": "markdown",
   "metadata": {
    "id": "wymVK833PN2i"
   },
   "source": [
    "## Раскодируем сообщения\n",
    "\n",
    "Служебные коды:  \n",
    "0 - символ заполнитель  \n",
    "1 - начало последовательности  \n",
    "2 - неизвестное слово  "
   ]
  },
  {
   "metadata": {},
   "cell_type": "markdown",
   "source": "Печатаем первые 20 слов из 5й рецензии в тренировочном датасете без смещения на 3 (тоесть некорректно)"
  },
  {
   "metadata": {},
   "cell_type": "code",
   "outputs": [
    {
     "name": "stdout",
     "output_type": "stream",
     "text": [
      "the\n",
      "effort\n",
      "still\n",
      "been\n",
      "that\n",
      "usually\n",
      "makes\n",
      "for\n",
      "of\n",
      "finished\n",
      "sucking\n",
      "ended\n",
      "and\n",
      "an\n",
      "because\n",
      "before\n",
      "if\n",
      "just\n",
      "though\n",
      "something\n"
     ]
    }
   ],
   "execution_count": 11,
   "source": [
    "for i in range(20):\n",
    "    print(reverse_word_index.get(x_train[5][i]))"
   ]
  },
  {
   "metadata": {},
   "cell_type": "markdown",
   "source": "Печатаем первые 20 слов из 5й рецензии в тренировочном датасете "
  },
  {
   "metadata": {},
   "cell_type": "code",
   "outputs": [
    {
     "name": "stdout",
     "output_type": "stream",
     "text": [
      "*\n",
      "begins\n",
      "better\n",
      "than\n",
      "it\n",
      "ends\n",
      "funny\n",
      "that\n",
      "the\n",
      "russian\n",
      "submarine\n",
      "crew\n",
      "*\n",
      "all\n",
      "other\n",
      "actors\n",
      "it's\n",
      "like\n",
      "those\n",
      "scenes\n"
     ]
    }
   ],
   "execution_count": 12,
   "source": [
    "for i in range(20):\n",
    "    print(reverse_word_index.get(x_train[5][i]-3, \"?\"))"
   ]
  },
  {
   "metadata": {},
   "cell_type": "markdown",
   "source": "Печатаем все слова из 5й рецензии в тренировочном датасете "
  },
  {
   "metadata": {
    "colab": {
     "base_uri": "https://localhost:8080/",
     "height": 54
    },
    "id": "dTA_4y_YPRKC",
    "outputId": "651c47ae-eb4d-4b88-f2ce-c99d23b2976b"
   },
   "cell_type": "code",
   "outputs": [
    {
     "data": {
      "text/plain": [
       "\"? begins better than it ends funny that the russian submarine crew ? all other actors it's like those scenes where documentary shots br br spoiler part the message ? was contrary to the whole story it just does not ? br br \""
      ]
     },
     "execution_count": 44,
     "metadata": {},
     "output_type": "execute_result"
    }
   ],
   "execution_count": 44,
   "source": [
    "message = ''\n",
    "for code in x_train[5]:\n",
    "    word = reverse_word_index.get(code - 3, '?')\n",
    "    message += word + ' '\n",
    "message"
   ]
  },
  {
   "cell_type": "code",
   "execution_count": 33,
   "metadata": {
    "colab": {
     "base_uri": "https://localhost:8080/",
     "height": 34
    },
    "id": "ViFfx177br64",
    "outputId": "fccfb7e9-7491-4b67-c484-d8974c438196"
   },
   "outputs": [
    {
     "data": {
      "text/plain": [
       "0"
      ]
     },
     "execution_count": 33,
     "metadata": {},
     "output_type": "execute_result"
    }
   ],
   "source": [
    "y_train[5]"
   ]
  },
  {
   "cell_type": "markdown",
   "metadata": {
    "id": "kiA7X0oWaS9Z"
   },
   "source": [
    "## Подготовка данных для обучения"
   ]
  },
  {
   "metadata": {},
   "cell_type": "markdown",
   "source": "Длина слов к которой приводится каждая рецензия "
  },
  {
   "cell_type": "code",
   "metadata": {
    "id": "PiZZxRZhMVWv",
    "ExecuteTime": {
     "end_time": "2024-08-30T13:55:11.019579Z",
     "start_time": "2024-08-30T13:55:11.016529Z"
    }
   },
   "source": [
    "maxlen = 200"
   ],
   "outputs": [],
   "execution_count": 22
  },
  {
   "metadata": {},
   "cell_type": "markdown",
   "source": "Так как для работы нейросети первый слой обязан быть фиксированной длины, используем pad_sequences для обрезки или дополнения вектора с рецензией до maxlen. В случае короткой рецензии проставляем нули с правой стороны"
  },
  {
   "cell_type": "code",
   "metadata": {
    "id": "0YrjnapvMVwf",
    "ExecuteTime": {
     "end_time": "2024-08-30T14:08:26.231075Z",
     "start_time": "2024-08-30T14:08:25.460950Z"
    }
   },
   "source": [
    "x_train = pad_sequences(x_train, maxlen=maxlen, padding='post')\n",
    "x_test = pad_sequences(x_test, maxlen=maxlen, padding='post')"
   ],
   "outputs": [],
   "execution_count": 30
  },
  {
   "cell_type": "code",
   "metadata": {
    "colab": {
     "base_uri": "https://localhost:8080/",
     "height": 343
    },
    "id": "SnANlxwYMcNX",
    "outputId": "e9475e60-1723-4109-88ea-7f43421cb29f",
    "ExecuteTime": {
     "end_time": "2024-08-30T14:08:29.970388Z",
     "start_time": "2024-08-30T14:08:29.964888Z"
    }
   },
   "source": "x_train[5]",
   "outputs": [
    {
     "data": {
      "text/plain": [
       "array([   4,  341,    7,   27,  846,   10,   10,   29,    9, 1906,    8,\n",
       "         97,    6,  236,    2, 1311,    8,    4,    2,    7,   31,    7,\n",
       "          2,   91,    2, 3987,   70,    4,  882,   30,  579,   42,    9,\n",
       "         12,   32,   11,  537,   10,   10,   11,   14,   65,   44,  537,\n",
       "         75,    2, 1775, 3353,    2, 1846,    4,    2,    7,  154,    5,\n",
       "          4,  518,   53,    2,    2,    7, 3211,  882,   11,  399,   38,\n",
       "         75,  257, 3807,   19,    2,   17,   29,  456,    4,   65,    7,\n",
       "         27,  205,  113,   10,   10,    2,    4,    2,    2,    9,  242,\n",
       "          4,   91, 1202,    2,    5, 2070,  307,   22,    7, 5168,  126,\n",
       "         93,   40,    2,   13,  188, 1076, 3222,   19,    4,    2,    7,\n",
       "       2348,  537,   23,   53,  537,   21,   82,   40,    2,   13,    2,\n",
       "         14,  280,   13,  219,    4,    2,  431,  758,  859,    4,  953,\n",
       "       1052,    2,    7, 5991,    5,   94,   40,   25,  238,   60,    2,\n",
       "          4,    2,  804,    2,    7,    4, 9941,  132,    8,   67,    6,\n",
       "         22,   15,    9,  283,    8, 5168,   14,   31,    9,  242,  955,\n",
       "         48,   25,  279,    2,   23,   12, 1685,  195,   25,  238,   60,\n",
       "        796,    2,    4,  671,    7, 2804,    5,    4,  559,  154,  888,\n",
       "          7,  726,   50,   26,   49, 7008,   15,  566,   30,  579,   21,\n",
       "         64, 2574])"
      ]
     },
     "execution_count": 31,
     "metadata": {},
     "output_type": "execute_result"
    }
   ],
   "execution_count": 31
  },
  {
   "cell_type": "code",
   "metadata": {
    "colab": {
     "base_uri": "https://localhost:8080/",
     "height": 34
    },
    "id": "Q-lsDYCcafBy",
    "outputId": "0849beb9-48e1-4dab-9723-c68654a1d128",
    "ExecuteTime": {
     "end_time": "2024-08-30T13:55:00.952187Z",
     "start_time": "2024-08-30T13:55:00.947671Z"
    }
   },
   "source": "y_train[5]",
   "outputs": [
    {
     "data": {
      "text/plain": [
       "1"
      ]
     },
     "execution_count": 20,
     "metadata": {},
     "output_type": "execute_result"
    }
   ],
   "execution_count": 20
  },
  {
   "cell_type": "markdown",
   "metadata": {
    "id": "rhSLT9WjTeMk"
   },
   "source": [
    "## Создание нейронной сети"
   ]
  },
  {
   "cell_type": "code",
   "metadata": {
    "id": "Lrzx1e4xTgzL",
    "ExecuteTime": {
     "end_time": "2024-08-30T14:08:40.382391Z",
     "start_time": "2024-08-30T14:08:40.344889Z"
    }
   },
   "source": [
    "model = Sequential()\n",
    "model.add(Dense(128, activation='relu', input_shape=(maxlen,)))\n",
    "model.add(Dense(64, activation='relu'))\n",
    "model.add(Dense(1, activation='sigmoid'))"
   ],
   "outputs": [],
   "execution_count": 32
  },
  {
   "cell_type": "code",
   "metadata": {
    "id": "u1yNam-uSunE",
    "ExecuteTime": {
     "end_time": "2024-08-30T14:08:42.116732Z",
     "start_time": "2024-08-30T14:08:42.107222Z"
    }
   },
   "source": [
    "model.compile(optimizer='adam',\n",
    "              loss='binary_crossentropy',\n",
    "              metrics=['accuracy'])"
   ],
   "outputs": [],
   "execution_count": 33
  },
  {
   "cell_type": "markdown",
   "metadata": {
    "id": "9CHZwMttYMTb"
   },
   "source": [
    "## Обучаем нейронную сеть"
   ]
  },
  {
   "cell_type": "code",
   "metadata": {
    "colab": {
     "base_uri": "https://localhost:8080/",
     "height": 911
    },
    "id": "AkmNH7ahYLyc",
    "outputId": "ef0850a4-bf90-4993-d537-41abc808e4d4",
    "ExecuteTime": {
     "end_time": "2024-08-30T14:08:54.083211Z",
     "start_time": "2024-08-30T14:08:44.696469Z"
    }
   },
   "source": [
    "x_train = np.asarray(x_train).astype('float32')\n",
    "y_train = np.asarray(y_train).astype('float32')\n",
    "\n",
    "history = model.fit(x_train,\n",
    "                    y_train,\n",
    "                    epochs=25,\n",
    "                    batch_size=128,\n",
    "                    validation_split=0.1)"
   ],
   "outputs": [
    {
     "name": "stdout",
     "output_type": "stream",
     "text": [
      "Epoch 1/25\n",
      "\u001B[1m176/176\u001B[0m \u001B[32m━━━━━━━━━━━━━━━━━━━━\u001B[0m\u001B[37m\u001B[0m \u001B[1m2s\u001B[0m 3ms/step - accuracy: 0.4994 - loss: 200.4162 - val_accuracy: 0.4932 - val_loss: 31.3807\n",
      "Epoch 2/25\n",
      "\u001B[1m176/176\u001B[0m \u001B[32m━━━━━━━━━━━━━━━━━━━━\u001B[0m\u001B[37m\u001B[0m \u001B[1m0s\u001B[0m 2ms/step - accuracy: 0.5307 - loss: 19.7568 - val_accuracy: 0.4860 - val_loss: 25.5017\n",
      "Epoch 3/25\n",
      "\u001B[1m176/176\u001B[0m \u001B[32m━━━━━━━━━━━━━━━━━━━━\u001B[0m\u001B[37m\u001B[0m \u001B[1m0s\u001B[0m 2ms/step - accuracy: 0.5195 - loss: 11.5819 - val_accuracy: 0.5020 - val_loss: 7.3845\n",
      "Epoch 4/25\n",
      "\u001B[1m176/176\u001B[0m \u001B[32m━━━━━━━━━━━━━━━━━━━━\u001B[0m\u001B[37m\u001B[0m \u001B[1m0s\u001B[0m 2ms/step - accuracy: 0.5277 - loss: 4.9631 - val_accuracy: 0.5284 - val_loss: 4.1405\n",
      "Epoch 5/25\n",
      "\u001B[1m176/176\u001B[0m \u001B[32m━━━━━━━━━━━━━━━━━━━━\u001B[0m\u001B[37m\u001B[0m \u001B[1m0s\u001B[0m 2ms/step - accuracy: 0.5353 - loss: 4.0374 - val_accuracy: 0.5112 - val_loss: 4.2446\n",
      "Epoch 6/25\n",
      "\u001B[1m176/176\u001B[0m \u001B[32m━━━━━━━━━━━━━━━━━━━━\u001B[0m\u001B[37m\u001B[0m \u001B[1m0s\u001B[0m 2ms/step - accuracy: 0.5367 - loss: 3.6570 - val_accuracy: 0.5056 - val_loss: 4.1014\n",
      "Epoch 7/25\n",
      "\u001B[1m176/176\u001B[0m \u001B[32m━━━━━━━━━━━━━━━━━━━━\u001B[0m\u001B[37m\u001B[0m \u001B[1m0s\u001B[0m 2ms/step - accuracy: 0.5422 - loss: 4.1741 - val_accuracy: 0.4920 - val_loss: 4.5340\n",
      "Epoch 8/25\n",
      "\u001B[1m176/176\u001B[0m \u001B[32m━━━━━━━━━━━━━━━━━━━━\u001B[0m\u001B[37m\u001B[0m \u001B[1m0s\u001B[0m 2ms/step - accuracy: 0.5377 - loss: 3.1480 - val_accuracy: 0.5172 - val_loss: 2.5788\n",
      "Epoch 9/25\n",
      "\u001B[1m176/176\u001B[0m \u001B[32m━━━━━━━━━━━━━━━━━━━━\u001B[0m\u001B[37m\u001B[0m \u001B[1m0s\u001B[0m 2ms/step - accuracy: 0.5533 - loss: 2.6848 - val_accuracy: 0.5132 - val_loss: 2.5536\n",
      "Epoch 10/25\n",
      "\u001B[1m176/176\u001B[0m \u001B[32m━━━━━━━━━━━━━━━━━━━━\u001B[0m\u001B[37m\u001B[0m \u001B[1m0s\u001B[0m 2ms/step - accuracy: 0.5437 - loss: 2.0431 - val_accuracy: 0.5172 - val_loss: 4.6905\n",
      "Epoch 11/25\n",
      "\u001B[1m176/176\u001B[0m \u001B[32m━━━━━━━━━━━━━━━━━━━━\u001B[0m\u001B[37m\u001B[0m \u001B[1m0s\u001B[0m 2ms/step - accuracy: 0.5576 - loss: 2.1744 - val_accuracy: 0.5164 - val_loss: 2.6206\n",
      "Epoch 12/25\n",
      "\u001B[1m176/176\u001B[0m \u001B[32m━━━━━━━━━━━━━━━━━━━━\u001B[0m\u001B[37m\u001B[0m \u001B[1m0s\u001B[0m 2ms/step - accuracy: 0.5571 - loss: 2.3955 - val_accuracy: 0.5136 - val_loss: 2.0598\n",
      "Epoch 13/25\n",
      "\u001B[1m176/176\u001B[0m \u001B[32m━━━━━━━━━━━━━━━━━━━━\u001B[0m\u001B[37m\u001B[0m \u001B[1m0s\u001B[0m 2ms/step - accuracy: 0.5515 - loss: 2.0085 - val_accuracy: 0.5280 - val_loss: 2.2033\n",
      "Epoch 14/25\n",
      "\u001B[1m176/176\u001B[0m \u001B[32m━━━━━━━━━━━━━━━━━━━━\u001B[0m\u001B[37m\u001B[0m \u001B[1m0s\u001B[0m 2ms/step - accuracy: 0.5659 - loss: 1.8932 - val_accuracy: 0.5204 - val_loss: 2.5946\n",
      "Epoch 15/25\n",
      "\u001B[1m176/176\u001B[0m \u001B[32m━━━━━━━━━━━━━━━━━━━━\u001B[0m\u001B[37m\u001B[0m \u001B[1m0s\u001B[0m 2ms/step - accuracy: 0.5581 - loss: 1.3532 - val_accuracy: 0.4972 - val_loss: 2.7149\n",
      "Epoch 16/25\n",
      "\u001B[1m176/176\u001B[0m \u001B[32m━━━━━━━━━━━━━━━━━━━━\u001B[0m\u001B[37m\u001B[0m \u001B[1m0s\u001B[0m 2ms/step - accuracy: 0.5633 - loss: 1.3897 - val_accuracy: 0.5284 - val_loss: 1.8469\n",
      "Epoch 17/25\n",
      "\u001B[1m176/176\u001B[0m \u001B[32m━━━━━━━━━━━━━━━━━━━━\u001B[0m\u001B[37m\u001B[0m \u001B[1m0s\u001B[0m 2ms/step - accuracy: 0.5727 - loss: 1.2830 - val_accuracy: 0.5092 - val_loss: 2.5387\n",
      "Epoch 18/25\n",
      "\u001B[1m176/176\u001B[0m \u001B[32m━━━━━━━━━━━━━━━━━━━━\u001B[0m\u001B[37m\u001B[0m \u001B[1m0s\u001B[0m 2ms/step - accuracy: 0.5707 - loss: 1.1912 - val_accuracy: 0.5036 - val_loss: 1.9691\n",
      "Epoch 19/25\n",
      "\u001B[1m176/176\u001B[0m \u001B[32m━━━━━━━━━━━━━━━━━━━━\u001B[0m\u001B[37m\u001B[0m \u001B[1m0s\u001B[0m 2ms/step - accuracy: 0.5605 - loss: 1.6162 - val_accuracy: 0.5100 - val_loss: 2.2824\n",
      "Epoch 20/25\n",
      "\u001B[1m176/176\u001B[0m \u001B[32m━━━━━━━━━━━━━━━━━━━━\u001B[0m\u001B[37m\u001B[0m \u001B[1m0s\u001B[0m 2ms/step - accuracy: 0.5735 - loss: 1.1027 - val_accuracy: 0.4996 - val_loss: 2.1058\n",
      "Epoch 21/25\n",
      "\u001B[1m176/176\u001B[0m \u001B[32m━━━━━━━━━━━━━━━━━━━━\u001B[0m\u001B[37m\u001B[0m \u001B[1m0s\u001B[0m 2ms/step - accuracy: 0.5766 - loss: 1.2432 - val_accuracy: 0.5104 - val_loss: 1.6288\n",
      "Epoch 22/25\n",
      "\u001B[1m176/176\u001B[0m \u001B[32m━━━━━━━━━━━━━━━━━━━━\u001B[0m\u001B[37m\u001B[0m \u001B[1m0s\u001B[0m 2ms/step - accuracy: 0.5629 - loss: 1.1510 - val_accuracy: 0.5036 - val_loss: 1.7281\n",
      "Epoch 23/25\n",
      "\u001B[1m176/176\u001B[0m \u001B[32m━━━━━━━━━━━━━━━━━━━━\u001B[0m\u001B[37m\u001B[0m \u001B[1m0s\u001B[0m 2ms/step - accuracy: 0.5690 - loss: 1.0458 - val_accuracy: 0.5184 - val_loss: 1.4939\n",
      "Epoch 24/25\n",
      "\u001B[1m176/176\u001B[0m \u001B[32m━━━━━━━━━━━━━━━━━━━━\u001B[0m\u001B[37m\u001B[0m \u001B[1m0s\u001B[0m 2ms/step - accuracy: 0.5834 - loss: 0.8847 - val_accuracy: 0.5096 - val_loss: 1.5013\n",
      "Epoch 25/25\n",
      "\u001B[1m176/176\u001B[0m \u001B[32m━━━━━━━━━━━━━━━━━━━━\u001B[0m\u001B[37m\u001B[0m \u001B[1m0s\u001B[0m 2ms/step - accuracy: 0.5889 - loss: 0.8740 - val_accuracy: 0.5024 - val_loss: 1.8744\n"
     ]
    }
   ],
   "execution_count": 34
  },
  {
   "cell_type": "code",
   "metadata": {
    "colab": {
     "base_uri": "https://localhost:8080/",
     "height": 283
    },
    "id": "bYsG9bOZSeOu",
    "outputId": "c25a7319-deb6-4ac2-b30c-813eec7d5fe5",
    "ExecuteTime": {
     "end_time": "2024-08-30T14:11:16.276802Z",
     "start_time": "2024-08-30T14:11:16.091274Z"
    }
   },
   "source": [
    "plt.plot(history.history['accuracy'],\n",
    "         label='Доля верных ответов на обучающем наборе')\n",
    "plt.plot(history.history['val_accuracy'],\n",
    "         label='Доля верных ответов на проверочном наборе')\n",
    "plt.xlabel('Эпоха обучения')\n",
    "plt.ylabel('Доля верных ответов')\n",
    "plt.legend()\n",
    "plt.show()"
   ],
   "outputs": [
    {
     "data": {
      "text/plain": [
       "<Figure size 640x480 with 1 Axes>"
      ],
      "image/png": "[encoded data removed]"
     },
     "metadata": {},
     "output_type": "display_data"
    }
   ],
   "execution_count": 37
  },
  {
   "cell_type": "markdown",
   "metadata": {
    "id": "HnnIy3JlEGqW"
   },
   "source": [
    "## Проверяем работу сети на тестовом наборе данных"
   ]
  },
  {
   "cell_type": "code",
   "execution_count": null,
   "metadata": {
    "colab": {
     "base_uri": "https://localhost:8080/",
     "height": 34
    },
    "id": "J1_ilV14EKBO",
    "outputId": "df322800-751a-4a4c-bbcf-58ea80360bb4"
   },
   "outputs": [
    {
     "name": "stdout",
     "output_type": "stream",
     "text": [
      "25000/25000 [==============================] - 1s 59us/sample - loss: 1.4626 - acc: 0.5089\n"
     ]
    }
   ],
   "source": [
    "scores = model.evaluate(x_test, y_test, verbose=1)"
   ]
  },
  {
   "cell_type": "code",
   "execution_count": null,
   "metadata": {
    "colab": {
     "base_uri": "https://localhost:8080/",
     "height": 34
    },
    "id": "l2ZOXG6-EYBW",
    "outputId": "385f7fb3-7873-4955-8c4b-3f4088bb73c3"
   },
   "outputs": [
    {
     "name": "stdout",
     "output_type": "stream",
     "text": [
      "Доля верных ответов на тестовых данных, в процентах: 50.888\n"
     ]
    }
   ],
   "source": [
    "print(\"Доля верных ответов на тестовых данных, в процентах:\", round(scores[1] * 100, 4))"
   ]
  },
  {
   "metadata": {},
   "cell_type": "markdown",
   "source": "Результаты неутешительны, сеть не обучилась корректно"
  }
 ],
 "metadata": {
  "accelerator": "GPU",
  "colab": {
   "provenance": []
  },
  "kernelspec": {
   "display_name": "Python 3 (ipykernel)",
   "language": "python",
   "name": "python3"
  },
  "language_info": {
   "codemirror_mode": {
    "name": "ipython",
    "version": 3
   },
   "file_extension": ".py",
   "mimetype": "text/x-python",
   "name": "python",
   "nbconvert_exporter": "python",
   "pygments_lexer": "ipython3",
   "version": "3.12.5"
  }
 },
 "nbformat": 4,
 "nbformat_minor": 4
}
